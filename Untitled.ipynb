{
 "cells": [
  {
   "cell_type": "markdown",
   "metadata": {},
   "source": [
    "# Cricket Player Classification\n",
    "\n",
    "The purpose of this work is to try and classify players into either batsmen, bowlers, all rounders or keepers.\n",
    "\n",
    "We first setup some initial imports:"
   ]
  },
  {
   "cell_type": "code",
   "execution_count": 1,
   "metadata": {},
   "outputs": [],
   "source": [
    "import pandas as pd\n",
    "import numpy as np\n",
    "\n",
    "# Matpotlib etc from sps"
   ]
  },
  {
   "cell_type": "markdown",
   "metadata": {},
   "source": [
    "## Data Collection\n",
    "To carry out this work we will need to collect some training data. This will involve using the Play-Cricket system as a source of all player statistics. Data will be collected from the past two years of players history.\n",
    "\n",
    "### Classifications\n",
    "Initially we need to get classifications of players, to train the model. To do this we shall use a current fantasy league system called `Fantasy Club Cricket`. Here club members have already carried out a manual classification of players in their club. This will allow us to get a much larger data set that origionally possible.\n",
    "\n",
    "To do this we shall analyse all clubs accessible on Play-Cricket that also have a fantasy league set up. For the purposes of this experiment, we shall limit the clubs to those who play in Warwickshire Cricket League. "
   ]
  }
 ],
 "metadata": {
  "kernelspec": {
   "display_name": "Python 3",
   "language": "python",
   "name": "python3"
  },
  "language_info": {
   "codemirror_mode": {
    "name": "ipython",
    "version": 3
   },
   "file_extension": ".py",
   "mimetype": "text/x-python",
   "name": "python",
   "nbconvert_exporter": "python",
   "pygments_lexer": "ipython3",
   "version": "3.7.1"
  }
 },
 "nbformat": 4,
 "nbformat_minor": 2
}
